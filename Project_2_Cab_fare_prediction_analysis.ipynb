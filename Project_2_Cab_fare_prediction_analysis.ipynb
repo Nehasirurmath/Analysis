{
  "nbformat": 4,
  "nbformat_minor": 0,
  "metadata": {
    "colab": {
      "name": "Project 2:Cab fare prediction analysis",
      "provenance": [],
      "collapsed_sections": [],
      "authorship_tag": "ABX9TyNvU46P45ghlmj2yCzgpGsb",
      "include_colab_link": true
    },
    "kernelspec": {
      "name": "python3",
      "display_name": "Python 3"
    },
    "language_info": {
      "name": "python"
    }
  },
  "cells": [
    {
      "cell_type": "markdown",
      "metadata": {
        "id": "view-in-github",
        "colab_type": "text"
      },
      "source": [
        "<a href=\"https://colab.research.google.com/github/Nehasirurmath/Analysis/blob/main/Project_2_Cab_fare_prediction_analysis.ipynb\" target=\"_parent\"><img src=\"https://colab.research.google.com/assets/colab-badge.svg\" alt=\"Open In Colab\"/></a>"
      ]
    },
    {
      "cell_type": "code",
      "metadata": {
        "id": "ZbJcSDGlBE3v"
      },
      "source": [
        ""
      ],
      "execution_count": null,
      "outputs": []
    },
    {
      "cell_type": "markdown",
      "metadata": {
        "id": "F8wZ9GFiBdmu"
      },
      "source": [
        "#prerequisites\n",
        "Data science is a process to get some meaningful information from the masove amount of data.it is mixture of varous tools,algorithms,and macine learning and deep learning concepts to discover hidden pattern from raw and unstructured data."
      ]
    },
    {
      "cell_type": "markdown",
      "metadata": {
        "id": "uRG9AZLqV2pq"
      },
      "source": [
        "#Uber Data Analysis\n",
        "Data analysis is basically a technique to understand your data using statistics concept...\n",
        "**feature engineering** process is basically used to create new feature from existing data more deeply...**machine learning** is subset of Artificial intelligence that allows the system to automatically learn and improve from experience without being explicitly programmed..**supervised learning** works as a supervisor.basically,we teach or train machine with labelled data.then we tst our model with some unknown set of data amd predict the level for them..**Regression** stands for to model a target value based on independent variables and linear regression is used to find the relationship between dependent(y) and independent variable (x)."
      ]
    },
    {
      "cell_type": "code",
      "metadata": {
        "id": "quAL_N8H_lL2"
      },
      "source": [
        "import pandas as pd  #data manipulation\n",
        "from sklearn.linear_model import LogisticRegression,LinearRegression\n",
        "import numpy as np #mathematical calulation\n",
        "import matplotlib.pyplot as plt #data visualization\n",
        "import seaborn as sns #data visualization\n",
        "import itertools\n",
        "import gc\n",
        "import os\n",
        "import sys\n",
        "%matplotlib inline"
      ],
      "execution_count": 1,
      "outputs": []
    },
    {
      "cell_type": "code",
      "metadata": {
        "colab": {
          "base_uri": "https://localhost:8080/"
        },
        "id": "65EPVyYrYoU1",
        "outputId": "93c90965-b408-47ae-b8c9-baf62f6613ad"
      },
      "source": [
        "!wget http://www.dropbox.com/s/ncqb2ctkg7da11k/weather.csv"
      ],
      "execution_count": 2,
      "outputs": [
        {
          "output_type": "stream",
          "name": "stdout",
          "text": [
            "--2021-11-27 09:34:20--  http://www.dropbox.com/s/ncqb2ctkg7da11k/weather.csv\n",
            "Resolving www.dropbox.com (www.dropbox.com)... 162.125.81.18, 2620:100:6035:18::a27d:5512\n",
            "Connecting to www.dropbox.com (www.dropbox.com)|162.125.81.18|:80... connected.\n",
            "HTTP request sent, awaiting response... 301 Moved Permanently\n",
            "Location: https://www.dropbox.com/s/ncqb2ctkg7da11k/weather.csv [following]\n",
            "--2021-11-27 09:34:21--  https://www.dropbox.com/s/ncqb2ctkg7da11k/weather.csv\n",
            "Connecting to www.dropbox.com (www.dropbox.com)|162.125.81.18|:443... connected.\n",
            "HTTP request sent, awaiting response... 301 Moved Permanently\n",
            "Location: /s/raw/ncqb2ctkg7da11k/weather.csv [following]\n",
            "--2021-11-27 09:34:21--  https://www.dropbox.com/s/raw/ncqb2ctkg7da11k/weather.csv\n",
            "Reusing existing connection to www.dropbox.com:443.\n",
            "HTTP request sent, awaiting response... 302 Found\n",
            "Location: https://uc0d7e91e9cbeac4c630ab42cde3.dl.dropboxusercontent.com/cd/0/inline/BazzM-KpZYo-OJkAkUODmzvbVWwO-y5okc8x-YccGqO70KhPMxEsZhqlKEYzsRkQfafB05iqA8WRDKZL8xUa5EEoxbhi0VC6-e5B7upJLaPm7r_xZ5KkvPmOhoJCkoVjMFjJn1WFj74HYkUkLptGmdCz/file# [following]\n",
            "--2021-11-27 09:34:21--  https://uc0d7e91e9cbeac4c630ab42cde3.dl.dropboxusercontent.com/cd/0/inline/BazzM-KpZYo-OJkAkUODmzvbVWwO-y5okc8x-YccGqO70KhPMxEsZhqlKEYzsRkQfafB05iqA8WRDKZL8xUa5EEoxbhi0VC6-e5B7upJLaPm7r_xZ5KkvPmOhoJCkoVjMFjJn1WFj74HYkUkLptGmdCz/file\n",
            "Resolving uc0d7e91e9cbeac4c630ab42cde3.dl.dropboxusercontent.com (uc0d7e91e9cbeac4c630ab42cde3.dl.dropboxusercontent.com)... 162.125.80.15, 2620:100:6035:15::a27d:550f\n",
            "Connecting to uc0d7e91e9cbeac4c630ab42cde3.dl.dropboxusercontent.com (uc0d7e91e9cbeac4c630ab42cde3.dl.dropboxusercontent.com)|162.125.80.15|:443... connected.\n",
            "HTTP request sent, awaiting response... 200 OK\n",
            "Length: 349993 (342K) [text/plain]\n",
            "Saving to: ‘weather.csv’\n",
            "\n",
            "weather.csv         100%[===================>] 341.79K  2.21MB/s    in 0.2s    \n",
            "\n",
            "2021-11-27 09:34:22 (2.21 MB/s) - ‘weather.csv’ saved [349993/349993]\n",
            "\n"
          ]
        }
      ]
    },
    {
      "cell_type": "code",
      "metadata": {
        "colab": {
          "base_uri": "https://localhost:8080/"
        },
        "id": "JAIFMhgMfqBo",
        "outputId": "cce0719b-08ca-4c63-f4f4-6e6218387a1e"
      },
      "source": [
        "!wget http://www.dropbox.com/s/brixkogrmhan6ed/cab_rides.csv"
      ],
      "execution_count": 3,
      "outputs": [
        {
          "output_type": "stream",
          "name": "stdout",
          "text": [
            "URL transformed to HTTPS due to an HSTS policy\n",
            "--2021-11-27 09:34:43--  https://www.dropbox.com/s/brixkogrmhan6ed/cab_rides.csv\n",
            "Resolving www.dropbox.com (www.dropbox.com)... 162.125.81.18, 2620:100:6035:18::a27d:5512\n",
            "Connecting to www.dropbox.com (www.dropbox.com)|162.125.81.18|:443... connected.\n",
            "HTTP request sent, awaiting response... 301 Moved Permanently\n",
            "Location: /s/raw/brixkogrmhan6ed/cab_rides.csv [following]\n",
            "URL transformed to HTTPS due to an HSTS policy\n",
            "--2021-11-27 09:34:44--  https://www.dropbox.com/s/raw/brixkogrmhan6ed/cab_rides.csv\n",
            "Reusing existing connection to www.dropbox.com:443.\n",
            "HTTP request sent, awaiting response... 302 Found\n",
            "Location: https://uc87c6be1a9a056284f5c23f722b.dl.dropboxusercontent.com/cd/0/inline/Bax9W7-vBeYrg1e4gg5UhAi4zz7BD0PAhjs6O19MFO4qrgtfuqUh9fPV3bDJ13WZC40DP4cZKlQXHMgcuKSYznwoxmt9mh2TSYVb5E-Qv7AJ-Iq9Bcm8M28-orSK7RuBnMTqW0G1174WFPcognPuCq2N/file# [following]\n",
            "--2021-11-27 09:34:44--  https://uc87c6be1a9a056284f5c23f722b.dl.dropboxusercontent.com/cd/0/inline/Bax9W7-vBeYrg1e4gg5UhAi4zz7BD0PAhjs6O19MFO4qrgtfuqUh9fPV3bDJ13WZC40DP4cZKlQXHMgcuKSYznwoxmt9mh2TSYVb5E-Qv7AJ-Iq9Bcm8M28-orSK7RuBnMTqW0G1174WFPcognPuCq2N/file\n",
            "Resolving uc87c6be1a9a056284f5c23f722b.dl.dropboxusercontent.com (uc87c6be1a9a056284f5c23f722b.dl.dropboxusercontent.com)... 162.125.81.15, 2620:100:6035:15::a27d:550f\n",
            "Connecting to uc87c6be1a9a056284f5c23f722b.dl.dropboxusercontent.com (uc87c6be1a9a056284f5c23f722b.dl.dropboxusercontent.com)|162.125.81.15|:443... connected.\n",
            "HTTP request sent, awaiting response... 200 OK\n",
            "Length: 88761783 (85M) [text/plain]\n",
            "Saving to: ‘cab_rides.csv’\n",
            "\n",
            "cab_rides.csv       100%[===================>]  84.65M  15.3MB/s    in 6.4s    \n",
            "\n",
            "2021-11-27 09:34:51 (13.3 MB/s) - ‘cab_rides.csv’ saved [88761783/88761783]\n",
            "\n"
          ]
        }
      ]
    },
    {
      "cell_type": "code",
      "metadata": {
        "id": "KZTV5X4OgFaV"
      },
      "source": [
        "# memory saving function credit to https://www.kaggle.com/gemartin/load-data-reduce-memory-usage\n",
        "def reduce_mem_usage(df):\n",
        "  start_mem=df.memory_usage().sum()/1024**2\n",
        "\n",
        "  for col in df.columns:\n",
        "    col_type=df[col].dtype\n",
        "\n",
        "    if col_type !=object:\n",
        "      c_min=df[col].min()\n",
        "      c_max=df[col].max()\n",
        "      if str(col_type)[:3]=='int':\n",
        "        if c_min>np.iinfo(np.int8).min and c_max <np.iinfo(np.int8).max:\n",
        "          df[col]=df[col].astype(np.int8)\n",
        "        elif c_min > np.iinfo(np.int16).min and c_max <np.iinfo(np.int16).max:\n",
        "          df[col]=df[col].astype(np.int16)  \n",
        "        elif c_min > np.iinfo(np.int32).min and c_max <np.iinfo(np.int32).max:\n",
        "          df[col]=df[col].astype(np.int32)  \n",
        "        elif c_min > np.iinfo(np.int64).min and c_max <np.iinfo(np.int64).max:\n",
        "          df[col]=df[col].astype(np.int64)    \n",
        "\n",
        "      else:\n",
        "         if c_min > np.iinfo(np.float32).min and c_max <np.iinfo(np.float32).max:\n",
        "           df[col]=df[col].astype(np.float32)\n",
        "         else:\n",
        "           df[col]=df[col].astype(np.float64)\n",
        "        \n",
        "\n",
        "  end_mem = df.memory_usage().sum()/1024**2\n",
        "  print('Memory usage of dataframe is {:.2f} MB --> {:.2f} MB (Decreased by {:.1f}%)'.format(\n",
        "      start_mem,end_mem,100*(start_mem-end_mem)/start_mem))\n",
        "  return df\n",
        "      \n",
        "  \n",
        "\n",
        "\n"
      ],
      "execution_count": 4,
      "outputs": []
    },
    {
      "cell_type": "code",
      "metadata": {
        "id": "o-3BvjCge0bn"
      },
      "source": [
        "cab_data=pd.read_csv(\"cab_rides.csv\") #data stored in cab_data variable from csv \n",
        "#cab_data=reduce_mem_usage(cab_data) #reduce fun actually shows how much dataset it get reduced\n",
        "weather_data=pd.read_csv(\"weather.csv\")\n",
        "#weather_data=reduce_mem_usage(weather_data)"
      ],
      "execution_count": 5,
      "outputs": []
    },
    {
      "cell_type": "code",
      "metadata": {
        "colab": {
          "base_uri": "https://localhost:8080/",
          "height": 206
        },
        "id": "hlizyuiqhlAi",
        "outputId": "7fde28cb-4aa4-43d7-d075-7feda0682082"
      },
      "source": [
        "cab_data.head()# head() gives top 5 records"
      ],
      "execution_count": 6,
      "outputs": [
        {
          "output_type": "execute_result",
          "data": {
            "text/html": [
              "<div>\n",
              "<style scoped>\n",
              "    .dataframe tbody tr th:only-of-type {\n",
              "        vertical-align: middle;\n",
              "    }\n",
              "\n",
              "    .dataframe tbody tr th {\n",
              "        vertical-align: top;\n",
              "    }\n",
              "\n",
              "    .dataframe thead th {\n",
              "        text-align: right;\n",
              "    }\n",
              "</style>\n",
              "<table border=\"1\" class=\"dataframe\">\n",
              "  <thead>\n",
              "    <tr style=\"text-align: right;\">\n",
              "      <th></th>\n",
              "      <th>distance</th>\n",
              "      <th>cab_type</th>\n",
              "      <th>time_stamp</th>\n",
              "      <th>destination</th>\n",
              "      <th>source</th>\n",
              "      <th>price</th>\n",
              "      <th>surge_multiplier</th>\n",
              "      <th>id</th>\n",
              "      <th>product_id</th>\n",
              "      <th>name</th>\n",
              "    </tr>\n",
              "  </thead>\n",
              "  <tbody>\n",
              "    <tr>\n",
              "      <th>0</th>\n",
              "      <td>0.44</td>\n",
              "      <td>Lyft</td>\n",
              "      <td>1544952607890</td>\n",
              "      <td>North Station</td>\n",
              "      <td>Haymarket Square</td>\n",
              "      <td>5.0</td>\n",
              "      <td>1.0</td>\n",
              "      <td>424553bb-7174-41ea-aeb4-fe06d4f4b9d7</td>\n",
              "      <td>lyft_line</td>\n",
              "      <td>Shared</td>\n",
              "    </tr>\n",
              "    <tr>\n",
              "      <th>1</th>\n",
              "      <td>0.44</td>\n",
              "      <td>Lyft</td>\n",
              "      <td>1543284023677</td>\n",
              "      <td>North Station</td>\n",
              "      <td>Haymarket Square</td>\n",
              "      <td>11.0</td>\n",
              "      <td>1.0</td>\n",
              "      <td>4bd23055-6827-41c6-b23b-3c491f24e74d</td>\n",
              "      <td>lyft_premier</td>\n",
              "      <td>Lux</td>\n",
              "    </tr>\n",
              "    <tr>\n",
              "      <th>2</th>\n",
              "      <td>0.44</td>\n",
              "      <td>Lyft</td>\n",
              "      <td>1543366822198</td>\n",
              "      <td>North Station</td>\n",
              "      <td>Haymarket Square</td>\n",
              "      <td>7.0</td>\n",
              "      <td>1.0</td>\n",
              "      <td>981a3613-77af-4620-a42a-0c0866077d1e</td>\n",
              "      <td>lyft</td>\n",
              "      <td>Lyft</td>\n",
              "    </tr>\n",
              "    <tr>\n",
              "      <th>3</th>\n",
              "      <td>0.44</td>\n",
              "      <td>Lyft</td>\n",
              "      <td>1543553582749</td>\n",
              "      <td>North Station</td>\n",
              "      <td>Haymarket Square</td>\n",
              "      <td>26.0</td>\n",
              "      <td>1.0</td>\n",
              "      <td>c2d88af2-d278-4bfd-a8d0-29ca77cc5512</td>\n",
              "      <td>lyft_luxsuv</td>\n",
              "      <td>Lux Black XL</td>\n",
              "    </tr>\n",
              "    <tr>\n",
              "      <th>4</th>\n",
              "      <td>0.44</td>\n",
              "      <td>Lyft</td>\n",
              "      <td>1543463360223</td>\n",
              "      <td>North Station</td>\n",
              "      <td>Haymarket Square</td>\n",
              "      <td>9.0</td>\n",
              "      <td>1.0</td>\n",
              "      <td>e0126e1f-8ca9-4f2e-82b3-50505a09db9a</td>\n",
              "      <td>lyft_plus</td>\n",
              "      <td>Lyft XL</td>\n",
              "    </tr>\n",
              "  </tbody>\n",
              "</table>\n",
              "</div>"
            ],
            "text/plain": [
              "   distance cab_type  ...    product_id          name\n",
              "0      0.44     Lyft  ...     lyft_line        Shared\n",
              "1      0.44     Lyft  ...  lyft_premier           Lux\n",
              "2      0.44     Lyft  ...          lyft          Lyft\n",
              "3      0.44     Lyft  ...   lyft_luxsuv  Lux Black XL\n",
              "4      0.44     Lyft  ...     lyft_plus       Lyft XL\n",
              "\n",
              "[5 rows x 10 columns]"
            ]
          },
          "metadata": {},
          "execution_count": 6
        }
      ]
    },
    {
      "cell_type": "code",
      "metadata": {
        "colab": {
          "base_uri": "https://localhost:8080/"
        },
        "id": "i1pELREbiKwq",
        "outputId": "9056105d-7c80-4e7f-d6e5-f57b1301dccb"
      },
      "source": [
        "cab_data.columns"
      ],
      "execution_count": 7,
      "outputs": [
        {
          "output_type": "execute_result",
          "data": {
            "text/plain": [
              "Index(['distance', 'cab_type', 'time_stamp', 'destination', 'source', 'price',\n",
              "       'surge_multiplier', 'id', 'product_id', 'name'],\n",
              "      dtype='object')"
            ]
          },
          "metadata": {},
          "execution_count": 7
        }
      ]
    },
    {
      "cell_type": "code",
      "metadata": {
        "colab": {
          "base_uri": "https://localhost:8080/"
        },
        "id": "sZiOWXIDiRzN",
        "outputId": "bcf8f829-2608-4881-821e-dfd0bf015035"
      },
      "source": [
        "weather_data.columns"
      ],
      "execution_count": 8,
      "outputs": [
        {
          "output_type": "execute_result",
          "data": {
            "text/plain": [
              "Index(['temp', 'location', 'clouds', 'pressure', 'rain', 'time_stamp',\n",
              "       'humidity', 'wind'],\n",
              "      dtype='object')"
            ]
          },
          "metadata": {},
          "execution_count": 8
        }
      ]
    },
    {
      "cell_type": "markdown",
      "metadata": {
        "id": "HRV_QHJ2j9yO"
      },
      "source": [
        "we actually have no idea how our attributes works..so use to date fun.."
      ]
    },
    {
      "cell_type": "code",
      "metadata": {
        "id": "FnBurTjCi9Rs"
      },
      "source": [
        "import datetime #to_datetime convert string to date time using panda ke\n",
        "cab_data['datetime']=pd.to_datetime(cab_data['time_stamp'])\n",
        "cab_data\n",
        "weather_data['datetime']=pd.to_datetime(weather_data['time_stamp'])"
      ],
      "execution_count": 9,
      "outputs": []
    },
    {
      "cell_type": "code",
      "metadata": {
        "colab": {
          "base_uri": "https://localhost:8080/"
        },
        "id": "aWHLBDcuw83L",
        "outputId": "78efc2fd-b803-4a85-c132-15b5acb8970b"
      },
      "source": [
        "cab_data['datetime']"
      ],
      "execution_count": 12,
      "outputs": [
        {
          "output_type": "execute_result",
          "data": {
            "text/plain": [
              "0        1970-01-01 00:25:44.952607890\n",
              "1        1970-01-01 00:25:43.284023677\n",
              "2        1970-01-01 00:25:43.366822198\n",
              "3        1970-01-01 00:25:43.553582749\n",
              "4        1970-01-01 00:25:43.463360223\n",
              "                      ...             \n",
              "693066   1970-01-01 00:25:43.708385534\n",
              "693067   1970-01-01 00:25:43.708385534\n",
              "693068   1970-01-01 00:25:43.708385534\n",
              "693069   1970-01-01 00:25:43.708385534\n",
              "693070   1970-01-01 00:25:43.708385534\n",
              "Name: datetime, Length: 693071, dtype: datetime64[ns]"
            ]
          },
          "metadata": {},
          "execution_count": 12
        }
      ]
    },
    {
      "cell_type": "code",
      "metadata": {
        "colab": {
          "base_uri": "https://localhost:8080/"
        },
        "id": "jYuyHgxexHaq",
        "outputId": "ac32c7ad-8e59-4359-fee0-29023a21380d"
      },
      "source": [
        "weather_data['datetime']"
      ],
      "execution_count": 13,
      "outputs": [
        {
          "output_type": "execute_result",
          "data": {
            "text/plain": [
              "0      1970-01-01 00:00:01.545003901\n",
              "1      1970-01-01 00:00:01.545003901\n",
              "2      1970-01-01 00:00:01.545003901\n",
              "3      1970-01-01 00:00:01.545003901\n",
              "4      1970-01-01 00:00:01.545003901\n",
              "                    ...             \n",
              "6271   1970-01-01 00:00:01.543819974\n",
              "6272   1970-01-01 00:00:01.543819974\n",
              "6273   1970-01-01 00:00:01.543819974\n",
              "6274   1970-01-01 00:00:01.543819974\n",
              "6275   1970-01-01 00:00:01.543819974\n",
              "Name: datetime, Length: 6276, dtype: datetime64[ns]"
            ]
          },
          "metadata": {},
          "execution_count": 13
        }
      ]
    },
    {
      "cell_type": "code",
      "metadata": {
        "id": "KqxSScUwjXJX",
        "colab": {
          "base_uri": "https://localhost:8080/"
        },
        "outputId": "e130641f-0bcb-4f82-aa56-55e3400ce846"
      },
      "source": [
        "cab_data.shape #tells how many rows n colmuns it has"
      ],
      "execution_count": 10,
      "outputs": [
        {
          "output_type": "execute_result",
          "data": {
            "text/plain": [
              "(693071, 11)"
            ]
          },
          "metadata": {},
          "execution_count": 10
        }
      ]
    },
    {
      "cell_type": "code",
      "metadata": {
        "colab": {
          "base_uri": "https://localhost:8080/"
        },
        "id": "tplljXtnW0W_",
        "outputId": "bd4b3bcd-831a-45ad-d116-4abf01c0a8ff"
      },
      "source": [
        "weather_data.shape"
      ],
      "execution_count": 11,
      "outputs": [
        {
          "output_type": "execute_result",
          "data": {
            "text/plain": [
              "(6276, 9)"
            ]
          },
          "metadata": {},
          "execution_count": 11
        }
      ]
    },
    {
      "cell_type": "code",
      "metadata": {
        "colab": {
          "base_uri": "https://localhost:8080/",
          "height": 300
        },
        "id": "--hly87lXJw2",
        "outputId": "5e0fd522-0892-4641-e0a4-c30ecd660c21"
      },
      "source": [
        "weather_data.describe() #conceprt ocab_data.des"
      ],
      "execution_count": 14,
      "outputs": [
        {
          "output_type": "execute_result",
          "data": {
            "text/html": [
              "<div>\n",
              "<style scoped>\n",
              "    .dataframe tbody tr th:only-of-type {\n",
              "        vertical-align: middle;\n",
              "    }\n",
              "\n",
              "    .dataframe tbody tr th {\n",
              "        vertical-align: top;\n",
              "    }\n",
              "\n",
              "    .dataframe thead th {\n",
              "        text-align: right;\n",
              "    }\n",
              "</style>\n",
              "<table border=\"1\" class=\"dataframe\">\n",
              "  <thead>\n",
              "    <tr style=\"text-align: right;\">\n",
              "      <th></th>\n",
              "      <th>temp</th>\n",
              "      <th>clouds</th>\n",
              "      <th>pressure</th>\n",
              "      <th>rain</th>\n",
              "      <th>time_stamp</th>\n",
              "      <th>humidity</th>\n",
              "      <th>wind</th>\n",
              "    </tr>\n",
              "  </thead>\n",
              "  <tbody>\n",
              "    <tr>\n",
              "      <th>count</th>\n",
              "      <td>6276.000000</td>\n",
              "      <td>6276.000000</td>\n",
              "      <td>6276.000000</td>\n",
              "      <td>894.000000</td>\n",
              "      <td>6.276000e+03</td>\n",
              "      <td>6276.000000</td>\n",
              "      <td>6276.000000</td>\n",
              "    </tr>\n",
              "    <tr>\n",
              "      <th>mean</th>\n",
              "      <td>39.090475</td>\n",
              "      <td>0.677777</td>\n",
              "      <td>1008.445209</td>\n",
              "      <td>0.057652</td>\n",
              "      <td>1.543857e+09</td>\n",
              "      <td>0.763985</td>\n",
              "      <td>6.802812</td>\n",
              "    </tr>\n",
              "    <tr>\n",
              "      <th>std</th>\n",
              "      <td>6.022055</td>\n",
              "      <td>0.314284</td>\n",
              "      <td>12.870775</td>\n",
              "      <td>0.100758</td>\n",
              "      <td>6.659340e+05</td>\n",
              "      <td>0.127340</td>\n",
              "      <td>3.633466</td>\n",
              "    </tr>\n",
              "    <tr>\n",
              "      <th>min</th>\n",
              "      <td>19.620000</td>\n",
              "      <td>0.000000</td>\n",
              "      <td>988.250000</td>\n",
              "      <td>0.000200</td>\n",
              "      <td>1.543204e+09</td>\n",
              "      <td>0.450000</td>\n",
              "      <td>0.290000</td>\n",
              "    </tr>\n",
              "    <tr>\n",
              "      <th>25%</th>\n",
              "      <td>36.077500</td>\n",
              "      <td>0.440000</td>\n",
              "      <td>997.747500</td>\n",
              "      <td>0.004900</td>\n",
              "      <td>1.543387e+09</td>\n",
              "      <td>0.670000</td>\n",
              "      <td>3.517500</td>\n",
              "    </tr>\n",
              "    <tr>\n",
              "      <th>50%</th>\n",
              "      <td>40.130000</td>\n",
              "      <td>0.780000</td>\n",
              "      <td>1007.660000</td>\n",
              "      <td>0.014850</td>\n",
              "      <td>1.543514e+09</td>\n",
              "      <td>0.760000</td>\n",
              "      <td>6.570000</td>\n",
              "    </tr>\n",
              "    <tr>\n",
              "      <th>75%</th>\n",
              "      <td>42.832500</td>\n",
              "      <td>0.970000</td>\n",
              "      <td>1018.480000</td>\n",
              "      <td>0.060925</td>\n",
              "      <td>1.544691e+09</td>\n",
              "      <td>0.890000</td>\n",
              "      <td>9.920000</td>\n",
              "    </tr>\n",
              "    <tr>\n",
              "      <th>max</th>\n",
              "      <td>55.410000</td>\n",
              "      <td>1.000000</td>\n",
              "      <td>1035.120000</td>\n",
              "      <td>0.780700</td>\n",
              "      <td>1.545159e+09</td>\n",
              "      <td>0.990000</td>\n",
              "      <td>18.180000</td>\n",
              "    </tr>\n",
              "  </tbody>\n",
              "</table>\n",
              "</div>"
            ],
            "text/plain": [
              "              temp       clouds  ...     humidity         wind\n",
              "count  6276.000000  6276.000000  ...  6276.000000  6276.000000\n",
              "mean     39.090475     0.677777  ...     0.763985     6.802812\n",
              "std       6.022055     0.314284  ...     0.127340     3.633466\n",
              "min      19.620000     0.000000  ...     0.450000     0.290000\n",
              "25%      36.077500     0.440000  ...     0.670000     3.517500\n",
              "50%      40.130000     0.780000  ...     0.760000     6.570000\n",
              "75%      42.832500     0.970000  ...     0.890000     9.920000\n",
              "max      55.410000     1.000000  ...     0.990000    18.180000\n",
              "\n",
              "[8 rows x 7 columns]"
            ]
          },
          "metadata": {},
          "execution_count": 14
        }
      ]
    },
    {
      "cell_type": "code",
      "metadata": {
        "colab": {
          "base_uri": "https://localhost:8080/",
          "height": 300
        },
        "id": "zC4KOwlrXp6J",
        "outputId": "cb3c624e-8e22-43e1-c187-c31e035bf701"
      },
      "source": [
        "cab_data.describe()"
      ],
      "execution_count": 15,
      "outputs": [
        {
          "output_type": "execute_result",
          "data": {
            "text/html": [
              "<div>\n",
              "<style scoped>\n",
              "    .dataframe tbody tr th:only-of-type {\n",
              "        vertical-align: middle;\n",
              "    }\n",
              "\n",
              "    .dataframe tbody tr th {\n",
              "        vertical-align: top;\n",
              "    }\n",
              "\n",
              "    .dataframe thead th {\n",
              "        text-align: right;\n",
              "    }\n",
              "</style>\n",
              "<table border=\"1\" class=\"dataframe\">\n",
              "  <thead>\n",
              "    <tr style=\"text-align: right;\">\n",
              "      <th></th>\n",
              "      <th>distance</th>\n",
              "      <th>time_stamp</th>\n",
              "      <th>price</th>\n",
              "      <th>surge_multiplier</th>\n",
              "    </tr>\n",
              "  </thead>\n",
              "  <tbody>\n",
              "    <tr>\n",
              "      <th>count</th>\n",
              "      <td>693071.000000</td>\n",
              "      <td>6.930710e+05</td>\n",
              "      <td>637976.000000</td>\n",
              "      <td>693071.000000</td>\n",
              "    </tr>\n",
              "    <tr>\n",
              "      <th>mean</th>\n",
              "      <td>2.189430</td>\n",
              "      <td>1.544046e+12</td>\n",
              "      <td>16.545125</td>\n",
              "      <td>1.013870</td>\n",
              "    </tr>\n",
              "    <tr>\n",
              "      <th>std</th>\n",
              "      <td>1.138937</td>\n",
              "      <td>6.891925e+08</td>\n",
              "      <td>9.324359</td>\n",
              "      <td>0.091641</td>\n",
              "    </tr>\n",
              "    <tr>\n",
              "      <th>min</th>\n",
              "      <td>0.020000</td>\n",
              "      <td>1.543204e+12</td>\n",
              "      <td>2.500000</td>\n",
              "      <td>1.000000</td>\n",
              "    </tr>\n",
              "    <tr>\n",
              "      <th>25%</th>\n",
              "      <td>1.280000</td>\n",
              "      <td>1.543444e+12</td>\n",
              "      <td>9.000000</td>\n",
              "      <td>1.000000</td>\n",
              "    </tr>\n",
              "    <tr>\n",
              "      <th>50%</th>\n",
              "      <td>2.160000</td>\n",
              "      <td>1.543737e+12</td>\n",
              "      <td>13.500000</td>\n",
              "      <td>1.000000</td>\n",
              "    </tr>\n",
              "    <tr>\n",
              "      <th>75%</th>\n",
              "      <td>2.920000</td>\n",
              "      <td>1.544828e+12</td>\n",
              "      <td>22.500000</td>\n",
              "      <td>1.000000</td>\n",
              "    </tr>\n",
              "    <tr>\n",
              "      <th>max</th>\n",
              "      <td>7.860000</td>\n",
              "      <td>1.545161e+12</td>\n",
              "      <td>97.500000</td>\n",
              "      <td>3.000000</td>\n",
              "    </tr>\n",
              "  </tbody>\n",
              "</table>\n",
              "</div>"
            ],
            "text/plain": [
              "            distance    time_stamp          price  surge_multiplier\n",
              "count  693071.000000  6.930710e+05  637976.000000     693071.000000\n",
              "mean        2.189430  1.544046e+12      16.545125          1.013870\n",
              "std         1.138937  6.891925e+08       9.324359          0.091641\n",
              "min         0.020000  1.543204e+12       2.500000          1.000000\n",
              "25%         1.280000  1.543444e+12       9.000000          1.000000\n",
              "50%         2.160000  1.543737e+12      13.500000          1.000000\n",
              "75%         2.920000  1.544828e+12      22.500000          1.000000\n",
              "max         7.860000  1.545161e+12      97.500000          3.000000"
            ]
          },
          "metadata": {},
          "execution_count": 15
        }
      ]
    },
    {
      "cell_type": "code",
      "metadata": {
        "id": "ymo2nvdoXxyU"
      },
      "source": [
        "a=pd.concat([cab_data,weather_data])"
      ],
      "execution_count": 16,
      "outputs": []
    },
    {
      "cell_type": "code",
      "metadata": {
        "colab": {
          "base_uri": "https://localhost:8080/",
          "height": 486
        },
        "id": "AftNplBJY2iN",
        "outputId": "5ac70e51-cb8b-4c02-c982-7014fc0a7839"
      },
      "source": [
        "a.head()"
      ],
      "execution_count": 17,
      "outputs": [
        {
          "output_type": "execute_result",
          "data": {
            "text/html": [
              "<div>\n",
              "<style scoped>\n",
              "    .dataframe tbody tr th:only-of-type {\n",
              "        vertical-align: middle;\n",
              "    }\n",
              "\n",
              "    .dataframe tbody tr th {\n",
              "        vertical-align: top;\n",
              "    }\n",
              "\n",
              "    .dataframe thead th {\n",
              "        text-align: right;\n",
              "    }\n",
              "</style>\n",
              "<table border=\"1\" class=\"dataframe\">\n",
              "  <thead>\n",
              "    <tr style=\"text-align: right;\">\n",
              "      <th></th>\n",
              "      <th>distance</th>\n",
              "      <th>cab_type</th>\n",
              "      <th>time_stamp</th>\n",
              "      <th>destination</th>\n",
              "      <th>source</th>\n",
              "      <th>price</th>\n",
              "      <th>surge_multiplier</th>\n",
              "      <th>id</th>\n",
              "      <th>product_id</th>\n",
              "      <th>name</th>\n",
              "      <th>datetime</th>\n",
              "      <th>temp</th>\n",
              "      <th>location</th>\n",
              "      <th>clouds</th>\n",
              "      <th>pressure</th>\n",
              "      <th>rain</th>\n",
              "      <th>humidity</th>\n",
              "      <th>wind</th>\n",
              "    </tr>\n",
              "  </thead>\n",
              "  <tbody>\n",
              "    <tr>\n",
              "      <th>0</th>\n",
              "      <td>0.44</td>\n",
              "      <td>Lyft</td>\n",
              "      <td>1544952607890</td>\n",
              "      <td>North Station</td>\n",
              "      <td>Haymarket Square</td>\n",
              "      <td>5.0</td>\n",
              "      <td>1.0</td>\n",
              "      <td>424553bb-7174-41ea-aeb4-fe06d4f4b9d7</td>\n",
              "      <td>lyft_line</td>\n",
              "      <td>Shared</td>\n",
              "      <td>1970-01-01 00:25:44.952607890</td>\n",
              "      <td>NaN</td>\n",
              "      <td>NaN</td>\n",
              "      <td>NaN</td>\n",
              "      <td>NaN</td>\n",
              "      <td>NaN</td>\n",
              "      <td>NaN</td>\n",
              "      <td>NaN</td>\n",
              "    </tr>\n",
              "    <tr>\n",
              "      <th>1</th>\n",
              "      <td>0.44</td>\n",
              "      <td>Lyft</td>\n",
              "      <td>1543284023677</td>\n",
              "      <td>North Station</td>\n",
              "      <td>Haymarket Square</td>\n",
              "      <td>11.0</td>\n",
              "      <td>1.0</td>\n",
              "      <td>4bd23055-6827-41c6-b23b-3c491f24e74d</td>\n",
              "      <td>lyft_premier</td>\n",
              "      <td>Lux</td>\n",
              "      <td>1970-01-01 00:25:43.284023677</td>\n",
              "      <td>NaN</td>\n",
              "      <td>NaN</td>\n",
              "      <td>NaN</td>\n",
              "      <td>NaN</td>\n",
              "      <td>NaN</td>\n",
              "      <td>NaN</td>\n",
              "      <td>NaN</td>\n",
              "    </tr>\n",
              "    <tr>\n",
              "      <th>2</th>\n",
              "      <td>0.44</td>\n",
              "      <td>Lyft</td>\n",
              "      <td>1543366822198</td>\n",
              "      <td>North Station</td>\n",
              "      <td>Haymarket Square</td>\n",
              "      <td>7.0</td>\n",
              "      <td>1.0</td>\n",
              "      <td>981a3613-77af-4620-a42a-0c0866077d1e</td>\n",
              "      <td>lyft</td>\n",
              "      <td>Lyft</td>\n",
              "      <td>1970-01-01 00:25:43.366822198</td>\n",
              "      <td>NaN</td>\n",
              "      <td>NaN</td>\n",
              "      <td>NaN</td>\n",
              "      <td>NaN</td>\n",
              "      <td>NaN</td>\n",
              "      <td>NaN</td>\n",
              "      <td>NaN</td>\n",
              "    </tr>\n",
              "    <tr>\n",
              "      <th>3</th>\n",
              "      <td>0.44</td>\n",
              "      <td>Lyft</td>\n",
              "      <td>1543553582749</td>\n",
              "      <td>North Station</td>\n",
              "      <td>Haymarket Square</td>\n",
              "      <td>26.0</td>\n",
              "      <td>1.0</td>\n",
              "      <td>c2d88af2-d278-4bfd-a8d0-29ca77cc5512</td>\n",
              "      <td>lyft_luxsuv</td>\n",
              "      <td>Lux Black XL</td>\n",
              "      <td>1970-01-01 00:25:43.553582749</td>\n",
              "      <td>NaN</td>\n",
              "      <td>NaN</td>\n",
              "      <td>NaN</td>\n",
              "      <td>NaN</td>\n",
              "      <td>NaN</td>\n",
              "      <td>NaN</td>\n",
              "      <td>NaN</td>\n",
              "    </tr>\n",
              "    <tr>\n",
              "      <th>4</th>\n",
              "      <td>0.44</td>\n",
              "      <td>Lyft</td>\n",
              "      <td>1543463360223</td>\n",
              "      <td>North Station</td>\n",
              "      <td>Haymarket Square</td>\n",
              "      <td>9.0</td>\n",
              "      <td>1.0</td>\n",
              "      <td>e0126e1f-8ca9-4f2e-82b3-50505a09db9a</td>\n",
              "      <td>lyft_plus</td>\n",
              "      <td>Lyft XL</td>\n",
              "      <td>1970-01-01 00:25:43.463360223</td>\n",
              "      <td>NaN</td>\n",
              "      <td>NaN</td>\n",
              "      <td>NaN</td>\n",
              "      <td>NaN</td>\n",
              "      <td>NaN</td>\n",
              "      <td>NaN</td>\n",
              "      <td>NaN</td>\n",
              "    </tr>\n",
              "  </tbody>\n",
              "</table>\n",
              "</div>"
            ],
            "text/plain": [
              "   distance cab_type     time_stamp  ... rain humidity  wind\n",
              "0      0.44     Lyft  1544952607890  ...  NaN      NaN   NaN\n",
              "1      0.44     Lyft  1543284023677  ...  NaN      NaN   NaN\n",
              "2      0.44     Lyft  1543366822198  ...  NaN      NaN   NaN\n",
              "3      0.44     Lyft  1543553582749  ...  NaN      NaN   NaN\n",
              "4      0.44     Lyft  1543463360223  ...  NaN      NaN   NaN\n",
              "\n",
              "[5 rows x 18 columns]"
            ]
          },
          "metadata": {},
          "execution_count": 17
        }
      ]
    },
    {
      "cell_type": "code",
      "metadata": {
        "id": "5f4TBx6nlbkH"
      },
      "source": [
        "import pandas as pd"
      ],
      "execution_count": 18,
      "outputs": []
    },
    {
      "cell_type": "code",
      "metadata": {
        "id": "DwSmyDpDYhz7",
        "colab": {
          "base_uri": "https://localhost:8080/",
          "height": 571
        },
        "outputId": "8c75bd97-9d2d-472b-db00-cf4d7be89952"
      },
      "source": [
        "#a['day']=pd.to_datetime(a['day'])\n",
        "#a['hour']=a.date_time.dt.hour\n",
        "#cab_data['datetime']=pd.to_datetime(cab_data['time_stamp'])"
      ],
      "execution_count": 20,
      "outputs": [
        {
          "output_type": "error",
          "ename": "KeyError",
          "evalue": "ignored",
          "traceback": [
            "\u001b[0;31m---------------------------------------------------------------------------\u001b[0m",
            "\u001b[0;31mKeyError\u001b[0m                                  Traceback (most recent call last)",
            "\u001b[0;32m/usr/local/lib/python3.7/dist-packages/pandas/core/indexes/base.py\u001b[0m in \u001b[0;36mget_loc\u001b[0;34m(self, key, method, tolerance)\u001b[0m\n\u001b[1;32m   2897\u001b[0m             \u001b[0;32mtry\u001b[0m\u001b[0;34m:\u001b[0m\u001b[0;34m\u001b[0m\u001b[0;34m\u001b[0m\u001b[0m\n\u001b[0;32m-> 2898\u001b[0;31m                 \u001b[0;32mreturn\u001b[0m \u001b[0mself\u001b[0m\u001b[0;34m.\u001b[0m\u001b[0m_engine\u001b[0m\u001b[0;34m.\u001b[0m\u001b[0mget_loc\u001b[0m\u001b[0;34m(\u001b[0m\u001b[0mcasted_key\u001b[0m\u001b[0;34m)\u001b[0m\u001b[0;34m\u001b[0m\u001b[0;34m\u001b[0m\u001b[0m\n\u001b[0m\u001b[1;32m   2899\u001b[0m             \u001b[0;32mexcept\u001b[0m \u001b[0mKeyError\u001b[0m \u001b[0;32mas\u001b[0m \u001b[0merr\u001b[0m\u001b[0;34m:\u001b[0m\u001b[0;34m\u001b[0m\u001b[0;34m\u001b[0m\u001b[0m\n",
            "\u001b[0;32mpandas/_libs/index.pyx\u001b[0m in \u001b[0;36mpandas._libs.index.IndexEngine.get_loc\u001b[0;34m()\u001b[0m\n",
            "\u001b[0;32mpandas/_libs/index.pyx\u001b[0m in \u001b[0;36mpandas._libs.index.IndexEngine.get_loc\u001b[0;34m()\u001b[0m\n",
            "\u001b[0;32mpandas/_libs/hashtable_class_helper.pxi\u001b[0m in \u001b[0;36mpandas._libs.hashtable.PyObjectHashTable.get_item\u001b[0;34m()\u001b[0m\n",
            "\u001b[0;32mpandas/_libs/hashtable_class_helper.pxi\u001b[0m in \u001b[0;36mpandas._libs.hashtable.PyObjectHashTable.get_item\u001b[0;34m()\u001b[0m\n",
            "\u001b[0;31mKeyError\u001b[0m: 'day'",
            "\nThe above exception was the direct cause of the following exception:\n",
            "\u001b[0;31mKeyError\u001b[0m                                  Traceback (most recent call last)",
            "\u001b[0;32m<ipython-input-20-8f626927e316>\u001b[0m in \u001b[0;36m<module>\u001b[0;34m()\u001b[0m\n\u001b[0;32m----> 1\u001b[0;31m \u001b[0ma\u001b[0m\u001b[0;34m[\u001b[0m\u001b[0;34m'day'\u001b[0m\u001b[0;34m]\u001b[0m\u001b[0;34m=\u001b[0m\u001b[0mpd\u001b[0m\u001b[0;34m.\u001b[0m\u001b[0mto_datetime\u001b[0m\u001b[0;34m(\u001b[0m\u001b[0ma\u001b[0m\u001b[0;34m[\u001b[0m\u001b[0;34m'day'\u001b[0m\u001b[0;34m]\u001b[0m\u001b[0;34m)\u001b[0m\u001b[0;34m\u001b[0m\u001b[0;34m\u001b[0m\u001b[0m\n\u001b[0m\u001b[1;32m      2\u001b[0m \u001b[0;31m#a['hour']=a.date_time.dt.hour\u001b[0m\u001b[0;34m\u001b[0m\u001b[0;34m\u001b[0m\u001b[0;34m\u001b[0m\u001b[0m\n\u001b[1;32m      3\u001b[0m \u001b[0;31m#cab_data['datetime']=pd.to_datetime(cab_data['time_stamp'])\u001b[0m\u001b[0;34m\u001b[0m\u001b[0;34m\u001b[0m\u001b[0;34m\u001b[0m\u001b[0m\n",
            "\u001b[0;32m/usr/local/lib/python3.7/dist-packages/pandas/core/frame.py\u001b[0m in \u001b[0;36m__getitem__\u001b[0;34m(self, key)\u001b[0m\n\u001b[1;32m   2904\u001b[0m             \u001b[0;32mif\u001b[0m \u001b[0mself\u001b[0m\u001b[0;34m.\u001b[0m\u001b[0mcolumns\u001b[0m\u001b[0;34m.\u001b[0m\u001b[0mnlevels\u001b[0m \u001b[0;34m>\u001b[0m \u001b[0;36m1\u001b[0m\u001b[0;34m:\u001b[0m\u001b[0;34m\u001b[0m\u001b[0;34m\u001b[0m\u001b[0m\n\u001b[1;32m   2905\u001b[0m                 \u001b[0;32mreturn\u001b[0m \u001b[0mself\u001b[0m\u001b[0;34m.\u001b[0m\u001b[0m_getitem_multilevel\u001b[0m\u001b[0;34m(\u001b[0m\u001b[0mkey\u001b[0m\u001b[0;34m)\u001b[0m\u001b[0;34m\u001b[0m\u001b[0;34m\u001b[0m\u001b[0m\n\u001b[0;32m-> 2906\u001b[0;31m             \u001b[0mindexer\u001b[0m \u001b[0;34m=\u001b[0m \u001b[0mself\u001b[0m\u001b[0;34m.\u001b[0m\u001b[0mcolumns\u001b[0m\u001b[0;34m.\u001b[0m\u001b[0mget_loc\u001b[0m\u001b[0;34m(\u001b[0m\u001b[0mkey\u001b[0m\u001b[0;34m)\u001b[0m\u001b[0;34m\u001b[0m\u001b[0;34m\u001b[0m\u001b[0m\n\u001b[0m\u001b[1;32m   2907\u001b[0m             \u001b[0;32mif\u001b[0m \u001b[0mis_integer\u001b[0m\u001b[0;34m(\u001b[0m\u001b[0mindexer\u001b[0m\u001b[0;34m)\u001b[0m\u001b[0;34m:\u001b[0m\u001b[0;34m\u001b[0m\u001b[0;34m\u001b[0m\u001b[0m\n\u001b[1;32m   2908\u001b[0m                 \u001b[0mindexer\u001b[0m \u001b[0;34m=\u001b[0m \u001b[0;34m[\u001b[0m\u001b[0mindexer\u001b[0m\u001b[0;34m]\u001b[0m\u001b[0;34m\u001b[0m\u001b[0;34m\u001b[0m\u001b[0m\n",
            "\u001b[0;32m/usr/local/lib/python3.7/dist-packages/pandas/core/indexes/base.py\u001b[0m in \u001b[0;36mget_loc\u001b[0;34m(self, key, method, tolerance)\u001b[0m\n\u001b[1;32m   2898\u001b[0m                 \u001b[0;32mreturn\u001b[0m \u001b[0mself\u001b[0m\u001b[0;34m.\u001b[0m\u001b[0m_engine\u001b[0m\u001b[0;34m.\u001b[0m\u001b[0mget_loc\u001b[0m\u001b[0;34m(\u001b[0m\u001b[0mcasted_key\u001b[0m\u001b[0;34m)\u001b[0m\u001b[0;34m\u001b[0m\u001b[0;34m\u001b[0m\u001b[0m\n\u001b[1;32m   2899\u001b[0m             \u001b[0;32mexcept\u001b[0m \u001b[0mKeyError\u001b[0m \u001b[0;32mas\u001b[0m \u001b[0merr\u001b[0m\u001b[0;34m:\u001b[0m\u001b[0;34m\u001b[0m\u001b[0;34m\u001b[0m\u001b[0m\n\u001b[0;32m-> 2900\u001b[0;31m                 \u001b[0;32mraise\u001b[0m \u001b[0mKeyError\u001b[0m\u001b[0;34m(\u001b[0m\u001b[0mkey\u001b[0m\u001b[0;34m)\u001b[0m \u001b[0;32mfrom\u001b[0m \u001b[0merr\u001b[0m\u001b[0;34m\u001b[0m\u001b[0;34m\u001b[0m\u001b[0m\n\u001b[0m\u001b[1;32m   2901\u001b[0m \u001b[0;34m\u001b[0m\u001b[0m\n\u001b[1;32m   2902\u001b[0m         \u001b[0;32mif\u001b[0m \u001b[0mtolerance\u001b[0m \u001b[0;32mis\u001b[0m \u001b[0;32mnot\u001b[0m \u001b[0;32mNone\u001b[0m\u001b[0;34m:\u001b[0m\u001b[0;34m\u001b[0m\u001b[0;34m\u001b[0m\u001b[0m\n",
            "\u001b[0;31mKeyError\u001b[0m: 'day'"
          ]
        }
      ]
    },
    {
      "cell_type": "code",
      "metadata": {
        "id": "s5ZI51RiZ2Ax"
      },
      "source": [
        "a.head()"
      ],
      "execution_count": null,
      "outputs": []
    },
    {
      "cell_type": "code",
      "metadata": {
        "id": "nHFvI6ptZGB3"
      },
      "source": [
        "a.fillna(0,inplace=True) #the nan values used to have replacaed by 0"
      ],
      "execution_count": 22,
      "outputs": []
    },
    {
      "cell_type": "code",
      "metadata": {
        "colab": {
          "base_uri": "https://localhost:8080/"
        },
        "id": "3_bBnG_2aHeY",
        "outputId": "52f0ce61-3957-46d1-e3e3-1c07d41d58a4"
      },
      "source": [
        "a.columns #columns are after combineing of 2 datasets"
      ],
      "execution_count": 23,
      "outputs": [
        {
          "output_type": "execute_result",
          "data": {
            "text/plain": [
              "Index(['distance', 'cab_type', 'time_stamp', 'destination', 'source', 'price',\n",
              "       'surge_multiplier', 'id', 'product_id', 'name', 'datetime', 'temp',\n",
              "       'location', 'clouds', 'pressure', 'rain', 'humidity', 'wind'],\n",
              "      dtype='object')"
            ]
          },
          "metadata": {},
          "execution_count": 23
        }
      ]
    },
    {
      "cell_type": "code",
      "metadata": {
        "colab": {
          "base_uri": "https://localhost:8080/",
          "height": 174
        },
        "id": "OOCdeH2AaLG9",
        "outputId": "2a3281d5-21db-4ca7-a123-20e67321c7dc"
      },
      "source": [
        "a.groupby('cab_type').count() #used to return columns you have provide"
      ],
      "execution_count": 24,
      "outputs": [
        {
          "output_type": "execute_result",
          "data": {
            "text/html": [
              "<div>\n",
              "<style scoped>\n",
              "    .dataframe tbody tr th:only-of-type {\n",
              "        vertical-align: middle;\n",
              "    }\n",
              "\n",
              "    .dataframe tbody tr th {\n",
              "        vertical-align: top;\n",
              "    }\n",
              "\n",
              "    .dataframe thead th {\n",
              "        text-align: right;\n",
              "    }\n",
              "</style>\n",
              "<table border=\"1\" class=\"dataframe\">\n",
              "  <thead>\n",
              "    <tr style=\"text-align: right;\">\n",
              "      <th></th>\n",
              "      <th>distance</th>\n",
              "      <th>time_stamp</th>\n",
              "      <th>destination</th>\n",
              "      <th>source</th>\n",
              "      <th>price</th>\n",
              "      <th>surge_multiplier</th>\n",
              "      <th>id</th>\n",
              "      <th>product_id</th>\n",
              "      <th>name</th>\n",
              "      <th>datetime</th>\n",
              "      <th>temp</th>\n",
              "      <th>location</th>\n",
              "      <th>clouds</th>\n",
              "      <th>pressure</th>\n",
              "      <th>rain</th>\n",
              "      <th>humidity</th>\n",
              "      <th>wind</th>\n",
              "    </tr>\n",
              "    <tr>\n",
              "      <th>cab_type</th>\n",
              "      <th></th>\n",
              "      <th></th>\n",
              "      <th></th>\n",
              "      <th></th>\n",
              "      <th></th>\n",
              "      <th></th>\n",
              "      <th></th>\n",
              "      <th></th>\n",
              "      <th></th>\n",
              "      <th></th>\n",
              "      <th></th>\n",
              "      <th></th>\n",
              "      <th></th>\n",
              "      <th></th>\n",
              "      <th></th>\n",
              "      <th></th>\n",
              "      <th></th>\n",
              "    </tr>\n",
              "  </thead>\n",
              "  <tbody>\n",
              "    <tr>\n",
              "      <th>0</th>\n",
              "      <td>6276</td>\n",
              "      <td>6276</td>\n",
              "      <td>6276</td>\n",
              "      <td>6276</td>\n",
              "      <td>6276</td>\n",
              "      <td>6276</td>\n",
              "      <td>6276</td>\n",
              "      <td>6276</td>\n",
              "      <td>6276</td>\n",
              "      <td>6276</td>\n",
              "      <td>6276</td>\n",
              "      <td>6276</td>\n",
              "      <td>6276</td>\n",
              "      <td>6276</td>\n",
              "      <td>6276</td>\n",
              "      <td>6276</td>\n",
              "      <td>6276</td>\n",
              "    </tr>\n",
              "    <tr>\n",
              "      <th>Lyft</th>\n",
              "      <td>307408</td>\n",
              "      <td>307408</td>\n",
              "      <td>307408</td>\n",
              "      <td>307408</td>\n",
              "      <td>307408</td>\n",
              "      <td>307408</td>\n",
              "      <td>307408</td>\n",
              "      <td>307408</td>\n",
              "      <td>307408</td>\n",
              "      <td>307408</td>\n",
              "      <td>307408</td>\n",
              "      <td>307408</td>\n",
              "      <td>307408</td>\n",
              "      <td>307408</td>\n",
              "      <td>307408</td>\n",
              "      <td>307408</td>\n",
              "      <td>307408</td>\n",
              "    </tr>\n",
              "    <tr>\n",
              "      <th>Uber</th>\n",
              "      <td>385663</td>\n",
              "      <td>385663</td>\n",
              "      <td>385663</td>\n",
              "      <td>385663</td>\n",
              "      <td>385663</td>\n",
              "      <td>385663</td>\n",
              "      <td>385663</td>\n",
              "      <td>385663</td>\n",
              "      <td>385663</td>\n",
              "      <td>385663</td>\n",
              "      <td>385663</td>\n",
              "      <td>385663</td>\n",
              "      <td>385663</td>\n",
              "      <td>385663</td>\n",
              "      <td>385663</td>\n",
              "      <td>385663</td>\n",
              "      <td>385663</td>\n",
              "    </tr>\n",
              "  </tbody>\n",
              "</table>\n",
              "</div>"
            ],
            "text/plain": [
              "          distance  time_stamp  destination  ...    rain  humidity    wind\n",
              "cab_type                                     ...                          \n",
              "0             6276        6276         6276  ...    6276      6276    6276\n",
              "Lyft        307408      307408       307408  ...  307408    307408  307408\n",
              "Uber        385663      385663       385663  ...  385663    385663  385663\n",
              "\n",
              "[3 rows x 17 columns]"
            ]
          },
          "metadata": {},
          "execution_count": 24
        }
      ]
    },
    {
      "cell_type": "code",
      "metadata": {
        "colab": {
          "base_uri": "https://localhost:8080/",
          "height": 359
        },
        "id": "puQ0xPSjacVN",
        "outputId": "05f667a7-f1ba-4b99-a2b7-1ec5101fae97"
      },
      "source": [
        "a.groupby('cab_type').count().plot.bar()"
      ],
      "execution_count": 25,
      "outputs": [
        {
          "output_type": "execute_result",
          "data": {
            "text/plain": [
              "<matplotlib.axes._subplots.AxesSubplot at 0x7fd92c184210>"
            ]
          },
          "metadata": {},
          "execution_count": 25
        },
        {
          "output_type": "display_data",
          "data": {
            "image/png": "[encoded data removed]",
            "text/plain": [
              "<Figure size 432x288 with 1 Axes>"
            ]
          },
          "metadata": {
            "needs_background": "light"
          }
        }
      ]
    },
    {
      "cell_type": "code",
      "metadata": {
        "id": "KTROVqGum1yB",
        "colab": {
          "base_uri": "https://localhost:8080/",
          "height": 730
        },
        "outputId": "59bf302a-d54b-47d2-fd10-ed576dbd4fa2"
      },
      "source": [
        "a['price'].value_counts().plot(kind='bar',figsize=(100,50),color='blue')"
      ],
      "execution_count": 26,
      "outputs": [
        {
          "output_type": "execute_result",
          "data": {
            "text/plain": [
              "<matplotlib.axes._subplots.AxesSubplot at 0x7fd92bfadb50>"
            ]
          },
          "metadata": {},
          "execution_count": 26
        },
        {
          "output_type": "display_data",
          "data": {
            "image/png": "[encoded data removed]",
            "text/plain": [
              "<Figure size 7200x3600 with 1 Axes>"
            ]
          },
          "metadata": {
            "needs_background": "light"
          }
        }
      ]
    },
    {
      "cell_type": "code",
      "metadata": {
        "id": "fSOKyDGcsUGA"
      },
      "source": [
        "a['hour'].value_counts().plot(kind='bar',figsize=(10,5),color='blue')"
      ],
      "execution_count": null,
      "outputs": []
    },
    {
      "cell_type": "code",
      "metadata": {
        "colab": {
          "base_uri": "https://localhost:8080/",
          "height": 265
        },
        "id": "jD_FfPTRtlmt",
        "outputId": "6f6908a2-57ae-4272-f712-79d96b72838f"
      },
      "source": [
        "import matplotlib.pyplot as plt\n",
        "x=a['rain']\n",
        "y=a['price']\n",
        "plt.plot(x,y)\n",
        "plt.show()"
      ],
      "execution_count": 29,
      "outputs": [
        {
          "output_type": "display_data",
          "data": {
            "image/png": "[encoded data removed]",
            "text/plain": [
              "<Figure size 432x288 with 1 Axes>"
            ]
          },
          "metadata": {
            "needs_background": "light"
          }
        }
      ]
    },
    {
      "cell_type": "code",
      "metadata": {
        "colab": {
          "base_uri": "https://localhost:8080/"
        },
        "id": "dZklJ3y9vN46",
        "outputId": "26f349bc-a1ac-4ea4-ba43-a12ae9482db4"
      },
      "source": [
        "a.columns"
      ],
      "execution_count": 30,
      "outputs": [
        {
          "output_type": "execute_result",
          "data": {
            "text/plain": [
              "Index(['distance', 'cab_type', 'time_stamp', 'destination', 'source', 'price',\n",
              "       'surge_multiplier', 'id', 'product_id', 'name', 'datetime', 'temp',\n",
              "       'location', 'clouds', 'pressure', 'rain', 'humidity', 'wind'],\n",
              "      dtype='object')"
            ]
          },
          "metadata": {},
          "execution_count": 30
        }
      ]
    },
    {
      "cell_type": "code",
      "metadata": {
        "id": "WpTXQmCevVNI"
      },
      "source": [
        "x1=a[['distance','temp','clouds','pressure','humidity',\"wind\",'rain','surge_multiplier','clouds']]\n",
        "y1=a['price']"
      ],
      "execution_count": 31,
      "outputs": []
    },
    {
      "cell_type": "code",
      "metadata": {
        "id": "tk4wiY_KwW2x"
      },
      "source": [
        "#using skicit-learn to split data intomtraining and testing sets\n",
        "from sklearn.model_selection import train_test_split\n",
        "#split the data into training and testing sets\n",
        "x_train,y_train,x_test,y_test=train_test_split(x1,y1,test_size=0.25,random_state=42)"
      ],
      "execution_count": 32,
      "outputs": []
    },
    {
      "cell_type": "code",
      "metadata": {
        "id": "BMvNrZ5vxsvZ"
      },
      "source": [
        "linear=LinearRegression()\n",
        "linear.fit(x_train,x_test)\n",
        "x_train = x_train.replace((np.inf, -np.inf, np.nan), 0).reset_index(drop=True)"
      ],
      "execution_count": 33,
      "outputs": []
    },
    {
      "cell_type": "code",
      "metadata": {
        "id": "NO2izRCNyEPm"
      },
      "source": [
        "predictions=linear.predict(y_train)\n",
        "y_train = y_train.replace((np.inf, -np.inf, np.nan), 0).reset_index(drop=True)"
      ],
      "execution_count": 34,
      "outputs": []
    },
    {
      "cell_type": "code",
      "metadata": {
        "id": "_NHmYvYHzwiR"
      },
      "source": [
        "df1=df.head(25)\n",
        "df1.plot(kind=\"bar\",figsize=(26,10))\n",
        "\n",
        "plt.grid(which='major',linestye='-',lineWidth='0.5',color=\"green\")\n",
        "plt.grid(which='minor',linestye=':',lineWidth='0.5',color=\"black\")"
      ],
      "execution_count": null,
      "outputs": []
    }
  ]
}